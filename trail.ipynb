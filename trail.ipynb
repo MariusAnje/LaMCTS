{
 "cells": [
  {
   "cell_type": "code",
   "execution_count": 1,
   "source": [
    "import sys\n",
    "\n",
    "from numpy import isin\n",
    "# from torch._C import device\n",
    "import utils\n",
    "import argparse\n",
    "import torch.nn as nn\n",
    "import torch.utils\n",
    "import torchvision.datasets as dset\n",
    "import torch\n",
    "if torch.cuda.is_available():\n",
    "    import torch.backends.cudnn as cudnn\n",
    "from collections import namedtuple\n",
    "from model import NetworkCIFAR as Network\n",
    "from operations import Conv2d, NSTPConv2d, NConv2d, NLinear\n",
    "from utils import *\n",
    "from torch.utils.data.dataset import Subset\n",
    "import logging\n",
    "from nasnet_set import *\n",
    "from tqdm.notebook import tqdm\n",
    "\n",
    "net = eval('[2, 2, 0, 2, 1, 2, 0, 2, 2, 3, 2, 1, 2, 0, 0, 1, 1, 1, 2, 1, 1, 0, 3, 4, 3, 0, 3, 1]')\n",
    "# print(net)\n",
    "code = gen_code_from_list(net, node_num=int((len(net) / 4)))\n",
    "genotype = translator([code, code], max_node=int((len(net) / 4)))\n",
    "# print(genotype)"
   ],
   "outputs": [],
   "metadata": {}
  },
  {
   "cell_type": "code",
   "execution_count": 2,
   "source": [
    "device  = torch.device(f\"cuda:{0}\" if torch.cuda.is_available() else \"cpu\")\n",
    "# torch.cuda.set_device(args.gpu)\n",
    "if device != torch.device(\"cpu\"):\n",
    "    cudnn.benchmark = True\n",
    "    cudnn.enabled = True\n",
    "\n",
    "# logging.info('gpu device = %d' % args.gpu)\n",
    "# logging.info(\"args = %s\", args)\n",
    "\n",
    "model = Network(128, 10, 24, True, genotype)\n",
    "logging.info(\"param size = %fMB\", utils.count_parameters_in_MB(model))\n",
    "\n",
    "checkpoint = torch.load(\"./lanas_128_99.03\" + '/top1.pt', map_location=\"cpu\")"
   ],
   "outputs": [],
   "metadata": {}
  },
  {
   "cell_type": "code",
   "execution_count": 3,
   "source": [
    "state_dict = checkpoint['model_state_dict']\n",
    "new_state_dict = model.state_dict()\n",
    "for key in state_dict.keys():\n",
    "    here = key.split(\".\")\n",
    "    this = \"\"\n",
    "    for i in here[:-1]:\n",
    "        this += (i + \".\")\n",
    "    this += (\"op.\" + here[-1])\n",
    "    if this in new_state_dict:\n",
    "        new_state_dict[this] = state_dict[key]\n",
    "    else:\n",
    "        new_state_dict[key] = state_dict[key]"
   ],
   "outputs": [],
   "metadata": {}
  },
  {
   "cell_type": "code",
   "execution_count": 4,
   "source": [
    "model.load_state_dict(new_state_dict)\n",
    "model = model.to(device)\n",
    "criterion = nn.CrossEntropyLoss().to(device)"
   ],
   "outputs": [],
   "metadata": {}
  },
  {
   "cell_type": "code",
   "execution_count": 5,
   "source": [
    "def infer(valid_queue, model, criterion, device):\n",
    "\n",
    "    objs = utils.AverageMeter()\n",
    "    top1 = utils.AverageMeter()\n",
    "    top5 = utils.AverageMeter()\n",
    "    # model.eval()\n",
    "\n",
    "    for step, (x, target) in enumerate(tqdm(valid_queue)):\n",
    "        x = x.to(device)\n",
    "        target = target.to(device)\n",
    "\n",
    "        with torch.no_grad():\n",
    "            logits, _ = model(x)\n",
    "            loss = criterion(logits, target)\n",
    "\n",
    "            prec1, prec5 = utils.accuracy(logits, target, topk=(1, 5))\n",
    "            n = x.size(0)\n",
    "            objs.update(loss.item(), n)\n",
    "            top1.update(prec1.item(), n)\n",
    "            top5.update(prec5.item(), n)\n",
    "\n",
    "    return top1.avg, objs.avg"
   ],
   "outputs": [],
   "metadata": {}
  },
  {
   "cell_type": "code",
   "execution_count": 6,
   "source": [
    "\n",
    "CIFAR_MEAN = [0.49139968, 0.48215827, 0.44653124]\n",
    "CIFAR_STD = [0.24703233, 0.24348505, 0.26158768]\n",
    "\n",
    "valid_transform = transforms.Compose([\n",
    "    transforms.ToTensor(),\n",
    "    transforms.Normalize(CIFAR_MEAN, CIFAR_STD),\n",
    "])\n",
    "\n",
    "valid_queue = torch.utils.data.DataLoader(\n",
    "        dset.CIFAR10(root=\"~/Private/data\", train=False, transform=valid_transform),\n",
    "        batch_size=128, shuffle=True, num_workers=2, pin_memory=True)\n",
    "\n",
    "\n",
    "model.eval()\n",
    "model.clear_noise()\n",
    "# to_save = {}\n",
    "# state_dict = model.state_dict()\n",
    "# to_save[\"model_state_dict\"] = state_dict\n",
    "# torch.save(to_save, \"top1\")\n",
    "\n",
    "valid_acc, valid_obj = infer(valid_queue, model, criterion, device)\n",
    "logging.info('valid_acc: %f', valid_acc)\n"
   ],
   "outputs": [
    {
     "output_type": "display_data",
     "data": {
      "application/vnd.jupyter.widget-view+json": {
       "version_major": 2,
       "version_minor": 0,
       "model_id": "e5c64e5bce5d480a8a83ea345057ec4e"
      },
      "text/plain": [
       "  0%|          | 0/79 [00:00<?, ?it/s]"
      ]
     },
     "metadata": {}
    }
   ],
   "metadata": {}
  },
  {
   "cell_type": "code",
   "execution_count": null,
   "source": [],
   "outputs": [],
   "metadata": {}
  }
 ],
 "metadata": {
  "orig_nbformat": 4,
  "language_info": {
   "name": "python",
   "version": "3.8.8",
   "mimetype": "text/x-python",
   "codemirror_mode": {
    "name": "ipython",
    "version": 3
   },
   "pygments_lexer": "ipython3",
   "nbconvert_exporter": "python",
   "file_extension": ".py"
  },
  "kernelspec": {
   "name": "python3",
   "display_name": "Python 3.8.8 64-bit ('base': conda)"
  },
  "interpreter": {
   "hash": "30333f74cc2c8f5078f72764b31b09cbdb710851684501ae51bb2509b53bca7b"
  }
 },
 "nbformat": 4,
 "nbformat_minor": 2
}